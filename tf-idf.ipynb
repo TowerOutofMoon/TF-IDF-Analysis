{
 "cells": [
  {
   "cell_type": "markdown",
   "id": "1d183803",
   "metadata": {},
   "source": [
    "### 读取json文件"
   ]
  },
  {
   "cell_type": "code",
   "execution_count": null,
   "id": "ef1abd59",
   "metadata": {},
   "outputs": [],
   "source": [
    "import pandas as pd"
   ]
  },
  {
   "cell_type": "code",
   "execution_count": null,
   "id": "246cbdbd",
   "metadata": {},
   "outputs": [],
   "source": [
    "interview = pd.read_json(r'../Data/文本划分/中国外交部例行记者会.json')"
   ]
  },
  {
   "cell_type": "code",
   "execution_count": null,
   "id": "8e24e74b",
   "metadata": {},
   "outputs": [],
   "source": [
    "interview"
   ]
  },
  {
   "cell_type": "markdown",
   "id": "ec365d44",
   "metadata": {},
   "source": [
    "### 提取json文件内的内容并转为文本文件"
   ]
  },
  {
   "cell_type": "code",
   "execution_count": null,
   "id": "52e74dfd",
   "metadata": {},
   "outputs": [],
   "source": [
    "import json\n",
    "\n",
    "with open(r'../Data/文本划分/中国外交部例行记者会.json', encoding='utf-8') as json_data:\n",
    "    data = json.load(json_data)"
   ]
  },
  {
   "cell_type": "code",
   "execution_count": null,
   "id": "d323d2d5",
   "metadata": {},
   "outputs": [],
   "source": [
    "type(data)"
   ]
  },
  {
   "cell_type": "code",
   "execution_count": null,
   "id": "e87ebb08",
   "metadata": {},
   "outputs": [],
   "source": [
    "questions = []\n",
    "answers = []\n",
    "journals = []\n",
    "\n",
    "for d in data:\n",
    "    qa_list  = d.get('question_answer_list')\n",
    "    for qa in qa_list:\n",
    "        question = qa.get('question')\n",
    "        answer = qa.get('answer')\n",
    "        journal = qa.get('journal')\n",
    "        questions.append(question)\n",
    "        journals.append(journal)\n",
    "        answers.append(answer)"
   ]
  },
  {
   "cell_type": "code",
   "execution_count": null,
   "id": "eeefc325",
   "metadata": {},
   "outputs": [],
   "source": [
    "questions,journals, answers"
   ]
  },
  {
   "cell_type": "code",
   "execution_count": null,
   "id": "c3663d1c",
   "metadata": {},
   "outputs": [],
   "source": [
    "def list_txt(path, list=None):\n",
    "    if list != None:\n",
    "        file = open(path, 'w', encoding='utf-8')\n",
    "        [file.write(str(item) + '\\n') for item in list]\n",
    "        file.close()\n",
    "        return None\n",
    "    else:\n",
    "        file = open(path, 'r')\n",
    "        rdlist = eval(file.read()) # 抛出异常\n",
    "        file.close()\n",
    "        return rdlist"
   ]
  },
  {
   "cell_type": "code",
   "execution_count": null,
   "id": "4a90bdfb",
   "metadata": {},
   "outputs": [],
   "source": [
    "list_txt(r'C:\\Users\\hp\\桌面\\项目\\数据挖掘\\Data\\文本划分\\文本格式的问答文件\\questions.txt', questions)\n",
    "list_txt(r'C:\\Users\\hp\\桌面\\项目\\数据挖掘\\Data\\文本划分\\文本格式的问答文件\\answers.txt', answers)"
   ]
  },
  {
   "cell_type": "markdown",
   "id": "dd9db7b1",
   "metadata": {},
   "source": [
    "### 预览df格式的问答内容"
   ]
  },
  {
   "cell_type": "code",
   "execution_count": null,
   "id": "79d98e2e",
   "metadata": {},
   "outputs": [],
   "source": [
    "QaA = pd.DataFrame({'questions': questions, 'journals': journals, 'answers': answers})"
   ]
  },
  {
   "cell_type": "code",
   "execution_count": null,
   "id": "3459c00c",
   "metadata": {},
   "outputs": [],
   "source": [
    "QaA"
   ]
  },
  {
   "cell_type": "markdown",
   "id": "6fa21e7b",
   "metadata": {},
   "source": [
    "### 利用jieba进行分词"
   ]
  },
  {
   "cell_type": "code",
   "execution_count": null,
   "id": "eb3fd2d6",
   "metadata": {},
   "outputs": [],
   "source": [
    "import jieba"
   ]
  },
  {
   "cell_type": "markdown",
   "id": "9ba38006",
   "metadata": {},
   "source": [
    "### 获取停用词"
   ]
  },
  {
   "cell_type": "code",
   "execution_count": null,
   "id": "54d8841e",
   "metadata": {},
   "outputs": [],
   "source": [
    "def get_stopwords(paths):\n",
    "    stopwords = []\n",
    "    for path in paths:\n",
    "        stopwords += [line.strip() for line in open(path, 'r', encoding='utf-8').readlines()]\n",
    "    return stopwords"
   ]
  },
  {
   "cell_type": "code",
   "execution_count": null,
   "id": "7d88b6c6",
   "metadata": {},
   "outputs": [],
   "source": [
    "stop_paths = [r'C:/Users/hp/桌面/stopwords-master/stopwords-master/cn_stopwords.txt',\n",
    "            r'C:/Users/hp/桌面/stopwords-master/stopwords-master/hit_stopwords.txt',\n",
    "            r'C:/Users/hp/桌面/stopwords-master/stopwords-master/scu_stopwords.txt']"
   ]
  },
  {
   "cell_type": "markdown",
   "id": "0704ccde",
   "metadata": {},
   "source": [
    "### 分词并写入"
   ]
  },
  {
   "cell_type": "code",
   "execution_count": null,
   "id": "58fa73e8",
   "metadata": {},
   "outputs": [],
   "source": [
    "def seg_sentence(sentence, stop_paths):\n",
    "    result = \"\"\n",
    "    sentence_seged=jieba.cut(sentence.strip())\n",
    "    stopwords = get_stopwords(stop_paths)\n",
    "    for word in sentence_seged:\n",
    "        if word not in stopwords:\n",
    "            if word not in ['问', '答']:\n",
    "                if word!='\\t':\n",
    "                    result += word\n",
    "                    result +=\" \"\n",
    "    return result"
   ]
  },
  {
   "cell_type": "code",
   "execution_count": null,
   "id": "b3127964",
   "metadata": {},
   "outputs": [],
   "source": [
    "questions = open(r'C:\\Users\\hp\\桌面\\项目\\数据挖掘\\Data\\文本划分\\文本格式的问答文件\\questions.txt','r',\n",
    "                                  encoding='utf-8')\n",
    "outs = open(r\"C:/Users/hp/桌面/项目/数据挖掘/Data/文本划分/分词后的文本/seg_result_Q.txt\",'w',\n",
    "                                  encoding='utf-8')\n",
    "\n",
    "for line in questions:\n",
    "    line_seg = seg_sentence(line, stop_paths)\n",
    "    outs.write(line_seg + '\\n')\n",
    "    \n",
    "outs.close()\n",
    "questions.close()"
   ]
  },
  {
   "cell_type": "code",
   "execution_count": null,
   "id": "c2de0cfe",
   "metadata": {},
   "outputs": [],
   "source": [
    "answers = open(r'C:/Users/hp/桌面/项目/数据挖掘/Data/文本划分/文本格式的问答文件/answers.txt', 'r',\n",
    "                                  encoding='utf-8')\n",
    "outs = open(r\"C:/Users/hp/桌面/项目/数据挖掘/Data/文本划分/分词后的文本/seg_result_A.txt\",'w',\n",
    "                                  encoding='utf-8')\n",
    "\n",
    "for line in answers:\n",
    "    line_seg = seg_sentence(line, stop_paths)\n",
    "    outs.write(line_seg + '\\n')\n",
    "\n",
    "outs.close()\n",
    "answers.close()"
   ]
  },
  {
   "cell_type": "markdown",
   "id": "6372f717",
   "metadata": {},
   "source": [
    "### 获取分词以及词频，以字典形式存储"
   ]
  },
  {
   "cell_type": "code",
   "execution_count": null,
   "id": "93806d02",
   "metadata": {},
   "outputs": [],
   "source": [
    "def get_countdic(lists):\n",
    "    count_dict = dict()\n",
    "    for i in lists:\n",
    "        if i in count_dict:\n",
    "            count_dict[i] += 1\n",
    "        else:\n",
    "            count_dict[i] = 1\n",
    "    return count_dict"
   ]
  },
  {
   "cell_type": "code",
   "execution_count": null,
   "id": "591a5432",
   "metadata": {},
   "outputs": [],
   "source": [
    "word_list = []\n",
    "for line in open(r\"C:/Users/hp/桌面/项目/数据挖掘/Data/文本划分/分词后的文本/seg_result_Q.txt\", 'r',encoding='utf-8'):\n",
    "        l = str(line).strip('\\n').strip(\" \")\n",
    "        word_list += l.split(\" \")\n",
    "        dic = get_countdic(word_list)\n",
    "with open(r\"C:/Users/hp/桌面/项目/数据挖掘/Data/文本划分/分词后的文本/frequency_Q.txt\", 'w',encoding='utf-8') as f:\n",
    "    for k, v in dic.items():\n",
    "        f.write('%s,%d\\n' % (k, v))"
   ]
  },
  {
   "cell_type": "code",
   "execution_count": null,
   "id": "b6072869",
   "metadata": {},
   "outputs": [],
   "source": [
    "word_list = []\n",
    "for line in open(r\"C:/Users/hp/桌面/项目/数据挖掘/Data/文本划分/seg_result_A.txt\", 'r',encoding='utf-8'):\n",
    "        l = str(line).strip('\\n').strip(\" \")\n",
    "        word_list += l.split(\" \")\n",
    "        dic = get_countdic(word_list)\n",
    "with open(r\"C:/Users/hp/桌面/项目/数据挖掘/Data/文本划分/frequency_A.txt\", 'w',encoding='utf-8') as f:\n",
    "    for k, v in dic.items():\n",
    "        f.write('%s,%d\\n' % (k, v))"
   ]
  },
  {
   "cell_type": "markdown",
   "id": "a36f7e72",
   "metadata": {},
   "source": [
    "### 读入词频和词语的txt文件"
   ]
  },
  {
   "cell_type": "code",
   "execution_count": null,
   "id": "45097012",
   "metadata": {},
   "outputs": [],
   "source": [
    "ans = pd.read_csv(r\"C:\\Users\\hp\\桌面\\项目\\数据挖掘\\Data\\文本划分\\频率统计文本\\frequency_A.txt\", names=[\"words\", \"frequency\"])\n",
    "que = pd.read_csv(r\"C:\\Users\\hp\\桌面\\项目\\数据挖掘\\Data\\文本划分\\频率统计文本\\frequency_Q.txt\", names=[\"words\", \"frequency\"])"
   ]
  },
  {
   "cell_type": "code",
   "execution_count": null,
   "id": "9b0a7b56",
   "metadata": {},
   "outputs": [],
   "source": [
    "que"
   ]
  },
  {
   "cell_type": "markdown",
   "id": "71c7f6fc",
   "metadata": {},
   "source": [
    "### 计算tf,idf和tf-idf"
   ]
  },
  {
   "cell_type": "code",
   "execution_count": null,
   "id": "a666055c",
   "metadata": {},
   "outputs": [],
   "source": [
    "import numpy as np"
   ]
  },
  {
   "cell_type": "code",
   "execution_count": null,
   "id": "a732dc61",
   "metadata": {},
   "outputs": [],
   "source": [
    "total_words = sum(ans['frequency'])\n",
    "ans['tf'] = ans['frequency'].apply(lambda x: x/total_words)\n",
    "total_words = sum(que['frequency'])\n",
    "que['tf'] = que['frequency'].apply(lambda x: x/total_words)\n",
    "ans['idf'] = ans['words'].apply(lambda x: np.log(2) if x in list(que['words']) else 0)\n",
    "que['idf'] = que['words'].apply(lambda x: np.log(2) if x in list(ans['words']) else 0)"
   ]
  },
  {
   "cell_type": "code",
   "execution_count": null,
   "id": "9d58748c",
   "metadata": {},
   "outputs": [],
   "source": [
    "ans, que"
   ]
  },
  {
   "cell_type": "code",
   "execution_count": null,
   "id": "eece5856",
   "metadata": {},
   "outputs": [],
   "source": [
    "ans['tf-idf'] = ans['tf'] * ans['idf']\n",
    "que['tf-idf'] = que['tf'] * que['idf']"
   ]
  },
  {
   "cell_type": "code",
   "execution_count": null,
   "id": "b4408857",
   "metadata": {},
   "outputs": [],
   "source": [
    "ans.shape, que.shape"
   ]
  },
  {
   "cell_type": "markdown",
   "id": "5fe674b9",
   "metadata": {},
   "source": [
    "### 删除空值和tf-idf过低的词"
   ]
  },
  {
   "cell_type": "code",
   "execution_count": null,
   "id": "1392b6e7",
   "metadata": {},
   "outputs": [],
   "source": [
    "ans.dropna(inplace=True)\n",
    "que.dropna(inplace=True)"
   ]
  },
  {
   "cell_type": "code",
   "execution_count": null,
   "id": "e604f318",
   "metadata": {},
   "outputs": [],
   "source": [
    "ans.drop(ans[ans['tf-idf'] < 1e-5].index, inplace=True)\n",
    "que.drop(que[que['tf-idf'] < 1e-5].index, inplace=True)"
   ]
  },
  {
   "cell_type": "code",
   "execution_count": null,
   "id": "5b1765b0",
   "metadata": {},
   "outputs": [],
   "source": [
    "ans.shape, que.shape"
   ]
  },
  {
   "cell_type": "code",
   "execution_count": null,
   "id": "585a71d1",
   "metadata": {},
   "outputs": [],
   "source": [
    "sort_ans = ans.sort_values(by='tf-idf', ascending=False)\n",
    "sort_que = que.sort_values(by='tf-idf', ascending=False)"
   ]
  },
  {
   "cell_type": "code",
   "execution_count": null,
   "id": "f6a994c9",
   "metadata": {},
   "outputs": [],
   "source": [
    "sort_ans"
   ]
  },
  {
   "cell_type": "code",
   "execution_count": null,
   "id": "de4aa068",
   "metadata": {},
   "outputs": [],
   "source": [
    "sort_que"
   ]
  },
  {
   "cell_type": "markdown",
   "id": "18d1dfe8",
   "metadata": {},
   "source": [
    "### 将数据保存在csv文件中"
   ]
  },
  {
   "cell_type": "code",
   "execution_count": null,
   "id": "82b0cadb",
   "metadata": {},
   "outputs": [],
   "source": [
    "sort_ans.to_csv(r'C:\\Users\\hp\\桌面\\项目\\数据挖掘\\Data\\文本划分\\tf-idf\\answers.csv', index=False)\n",
    "sort_que.to_csv(r'C:\\Users\\hp\\桌面\\项目\\数据挖掘\\Data\\文本划分\\tf-idf\\questions.csv', index=False)"
   ]
  }
 ],
 "metadata": {
  "kernelspec": {
   "display_name": "Python 3 (ipykernel)",
   "language": "python",
   "name": "python3"
  },
  "language_info": {
   "codemirror_mode": {
    "name": "ipython",
    "version": 3
   },
   "file_extension": ".py",
   "mimetype": "text/x-python",
   "name": "python",
   "nbconvert_exporter": "python",
   "pygments_lexer": "ipython3",
   "version": "3.9.13"
  },
  "latex_envs": {
   "LaTeX_envs_menu_present": true,
   "autoclose": false,
   "autocomplete": true,
   "bibliofile": "biblio.bib",
   "cite_by": "apalike",
   "current_citInitial": 1,
   "eqLabelWithNumbers": true,
   "eqNumInitial": 1,
   "hotkeys": {
    "equation": "Ctrl-E",
    "itemize": "Ctrl-I"
   },
   "labels_anchors": false,
   "latex_user_defs": false,
   "report_style_numbering": false,
   "user_envs_cfg": false
  },
  "varInspector": {
   "cols": {
    "lenName": 16,
    "lenType": 16,
    "lenVar": 40
   },
   "kernels_config": {
    "python": {
     "delete_cmd_postfix": "",
     "delete_cmd_prefix": "del ",
     "library": "var_list.py",
     "varRefreshCmd": "print(var_dic_list())"
    },
    "r": {
     "delete_cmd_postfix": ") ",
     "delete_cmd_prefix": "rm(",
     "library": "var_list.r",
     "varRefreshCmd": "cat(var_dic_list()) "
    }
   },
   "types_to_exclude": [
    "module",
    "function",
    "builtin_function_or_method",
    "instance",
    "_Feature"
   ],
   "window_display": false
  }
 },
 "nbformat": 4,
 "nbformat_minor": 5
}
